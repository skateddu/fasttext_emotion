{
 "cells": [
  {
   "cell_type": "markdown",
   "id": "6de72132",
   "metadata": {},
   "source": [
    "**Install project requirements**"
   ]
  },
  {
   "cell_type": "code",
   "execution_count": 1,
   "id": "7daa0255",
   "metadata": {},
   "outputs": [],
   "source": [
    "# !pip install -r requirements.txt"
   ]
  },
  {
   "cell_type": "markdown",
   "id": "ce2074b6",
   "metadata": {},
   "source": [
    "**Import libraries**"
   ]
  },
  {
   "cell_type": "code",
   "execution_count": 2,
   "id": "92c24e30",
   "metadata": {},
   "outputs": [],
   "source": [
    "import pandas as pd\n",
    "\n",
    "import os"
   ]
  },
  {
   "cell_type": "markdown",
   "id": "a104067d",
   "metadata": {},
   "source": [
    "**Define input data parameters**"
   ]
  },
  {
   "cell_type": "code",
   "execution_count": 3,
   "id": "fd2322f9",
   "metadata": {
    "scrolled": true
   },
   "outputs": [
    {
     "data": {
      "text/plain": [
       "'data\\\\raw\\\\SetFit_emotion.json'"
      ]
     },
     "execution_count": 3,
     "metadata": {},
     "output_type": "execute_result"
    }
   ],
   "source": [
    "input_path = os.path.join(\"data\", \"raw\")\n",
    "input_file = os.path.join(input_path, \"SetFit_emotion.json\")\n",
    "input_file"
   ]
  },
  {
   "cell_type": "markdown",
   "id": "f78bd9d9",
   "metadata": {},
   "source": [
    "**Load input data**"
   ]
  },
  {
   "cell_type": "code",
   "execution_count": 4,
   "id": "8deaaf75",
   "metadata": {},
   "outputs": [
    {
     "data": {
      "text/html": [
       "<div>\n",
       "<style scoped>\n",
       "    .dataframe tbody tr th:only-of-type {\n",
       "        vertical-align: middle;\n",
       "    }\n",
       "\n",
       "    .dataframe tbody tr th {\n",
       "        vertical-align: top;\n",
       "    }\n",
       "\n",
       "    .dataframe thead th {\n",
       "        text-align: right;\n",
       "    }\n",
       "</style>\n",
       "<table border=\"1\" class=\"dataframe\">\n",
       "  <thead>\n",
       "    <tr style=\"text-align: right;\">\n",
       "      <th></th>\n",
       "      <th>text</th>\n",
       "      <th>label</th>\n",
       "      <th>label_text</th>\n",
       "      <th>split</th>\n",
       "    </tr>\n",
       "  </thead>\n",
       "  <tbody>\n",
       "    <tr>\n",
       "      <th>0</th>\n",
       "      <td>i didnt feel humiliated</td>\n",
       "      <td>0</td>\n",
       "      <td>sadness</td>\n",
       "      <td>train</td>\n",
       "    </tr>\n",
       "    <tr>\n",
       "      <th>1</th>\n",
       "      <td>i can go from feeling so hopeless to so damned...</td>\n",
       "      <td>0</td>\n",
       "      <td>sadness</td>\n",
       "      <td>train</td>\n",
       "    </tr>\n",
       "    <tr>\n",
       "      <th>2</th>\n",
       "      <td>im grabbing a minute to post i feel greedy wrong</td>\n",
       "      <td>3</td>\n",
       "      <td>anger</td>\n",
       "      <td>train</td>\n",
       "    </tr>\n",
       "    <tr>\n",
       "      <th>3</th>\n",
       "      <td>i am ever feeling nostalgic about the fireplac...</td>\n",
       "      <td>2</td>\n",
       "      <td>love</td>\n",
       "      <td>train</td>\n",
       "    </tr>\n",
       "    <tr>\n",
       "      <th>4</th>\n",
       "      <td>i am feeling grouchy</td>\n",
       "      <td>3</td>\n",
       "      <td>anger</td>\n",
       "      <td>train</td>\n",
       "    </tr>\n",
       "    <tr>\n",
       "      <th>...</th>\n",
       "      <td>...</td>\n",
       "      <td>...</td>\n",
       "      <td>...</td>\n",
       "      <td>...</td>\n",
       "    </tr>\n",
       "    <tr>\n",
       "      <th>19995</th>\n",
       "      <td>im having ssa examination tomorrow in the morn...</td>\n",
       "      <td>0</td>\n",
       "      <td>sadness</td>\n",
       "      <td>validation</td>\n",
       "    </tr>\n",
       "    <tr>\n",
       "      <th>19996</th>\n",
       "      <td>i constantly worry about their fight against n...</td>\n",
       "      <td>1</td>\n",
       "      <td>joy</td>\n",
       "      <td>validation</td>\n",
       "    </tr>\n",
       "    <tr>\n",
       "      <th>19997</th>\n",
       "      <td>i feel its important to share this info for th...</td>\n",
       "      <td>1</td>\n",
       "      <td>joy</td>\n",
       "      <td>validation</td>\n",
       "    </tr>\n",
       "    <tr>\n",
       "      <th>19998</th>\n",
       "      <td>i truly feel that if you are passionate enough...</td>\n",
       "      <td>1</td>\n",
       "      <td>joy</td>\n",
       "      <td>validation</td>\n",
       "    </tr>\n",
       "    <tr>\n",
       "      <th>19999</th>\n",
       "      <td>i feel like i just wanna buy any cute make up ...</td>\n",
       "      <td>1</td>\n",
       "      <td>joy</td>\n",
       "      <td>validation</td>\n",
       "    </tr>\n",
       "  </tbody>\n",
       "</table>\n",
       "<p>20000 rows × 4 columns</p>\n",
       "</div>"
      ],
      "text/plain": [
       "                                                    text  label label_text  \\\n",
       "0                                i didnt feel humiliated      0    sadness   \n",
       "1      i can go from feeling so hopeless to so damned...      0    sadness   \n",
       "2       im grabbing a minute to post i feel greedy wrong      3      anger   \n",
       "3      i am ever feeling nostalgic about the fireplac...      2       love   \n",
       "4                                   i am feeling grouchy      3      anger   \n",
       "...                                                  ...    ...        ...   \n",
       "19995  im having ssa examination tomorrow in the morn...      0    sadness   \n",
       "19996  i constantly worry about their fight against n...      1        joy   \n",
       "19997  i feel its important to share this info for th...      1        joy   \n",
       "19998  i truly feel that if you are passionate enough...      1        joy   \n",
       "19999  i feel like i just wanna buy any cute make up ...      1        joy   \n",
       "\n",
       "            split  \n",
       "0           train  \n",
       "1           train  \n",
       "2           train  \n",
       "3           train  \n",
       "4           train  \n",
       "...           ...  \n",
       "19995  validation  \n",
       "19996  validation  \n",
       "19997  validation  \n",
       "19998  validation  \n",
       "19999  validation  \n",
       "\n",
       "[20000 rows x 4 columns]"
      ]
     },
     "execution_count": 4,
     "metadata": {},
     "output_type": "execute_result"
    }
   ],
   "source": [
    "df = pd.read_json(path_or_buf=input_file, orient=\"records\", lines=True)\n",
    "df"
   ]
  },
  {
   "cell_type": "markdown",
   "id": "bd79d2bb",
   "metadata": {},
   "source": [
    "**Check label classes balance**"
   ]
  },
  {
   "cell_type": "code",
   "execution_count": 5,
   "id": "f62972ed",
   "metadata": {},
   "outputs": [
    {
     "data": {
      "text/plain": [
       "joy         0.33805\n",
       "sadness     0.28985\n",
       "anger       0.13545\n",
       "fear        0.11865\n",
       "love        0.08205\n",
       "surprise    0.03595\n",
       "Name: label_text, dtype: float64"
      ]
     },
     "execution_count": 5,
     "metadata": {},
     "output_type": "execute_result"
    }
   ],
   "source": [
    "df[\"label_text\"].value_counts(normalize=True)"
   ]
  },
  {
   "cell_type": "markdown",
   "id": "7c9c6178",
   "metadata": {},
   "source": [
    "**Check subset splits proportion**"
   ]
  },
  {
   "cell_type": "code",
   "execution_count": 6,
   "id": "90023556",
   "metadata": {},
   "outputs": [
    {
     "data": {
      "text/plain": [
       "train         0.8\n",
       "test          0.1\n",
       "validation    0.1\n",
       "Name: split, dtype: float64"
      ]
     },
     "execution_count": 6,
     "metadata": {},
     "output_type": "execute_result"
    }
   ],
   "source": [
    "df[\"split\"].value_counts(normalize=True)"
   ]
  },
  {
   "cell_type": "markdown",
   "id": "fa737ec2",
   "metadata": {},
   "source": [
    "**Define custom function to convert the pandas DataFrame into accepted fastText data format**"
   ]
  },
  {
   "cell_type": "code",
   "execution_count": 7,
   "id": "9e37048f",
   "metadata": {},
   "outputs": [],
   "source": [
    "def save_model_data(df: pd.DataFrame, text: str, label: str, split: str) -> None:\n",
    "    \"\"\"\n",
    "    Save pandas DataFrame subsets into fastText accepted data format.\n",
    "    \n",
    "    Parameters\n",
    "    ----------\n",
    "    df : pd.DataFrame\n",
    "        input dataframe\n",
    "    text : str\n",
    "        text column\n",
    "    label : str\n",
    "        label column\n",
    "    split : str\n",
    "        split column\n",
    "    \n",
    "    Returns\n",
    "    -------\n",
    "    None\n",
    "    \"\"\"\n",
    "    output_path = os.path.join(\"data\", \"processed\")\n",
    "    os.makedirs(name=output_path, exist_ok=True)\n",
    "    \n",
    "    for subset in df[split].unique():\n",
    "        df_subset = df.loc[df[split]==subset, [label, text]]\n",
    "        output_file = os.path.join(output_path, f\"{subset}.txt\")\n",
    "        with open(file=output_file,  mode=\"w\") as file:\n",
    "            for lbl, txt in zip(df_subset[label], df_subset[text]):\n",
    "                file.write(f\"__label__{lbl} {txt}\\n\")\n",
    "        print(f\"The file {output_file} has been saved.\")"
   ]
  },
  {
   "cell_type": "markdown",
   "id": "4e0b8aac",
   "metadata": {},
   "source": [
    "**Call the custom function to save the data**"
   ]
  },
  {
   "cell_type": "code",
   "execution_count": 8,
   "id": "c9554f48",
   "metadata": {},
   "outputs": [
    {
     "name": "stdout",
     "output_type": "stream",
     "text": [
      "The file data\\processed\\train.txt has been saved.\n",
      "The file data\\processed\\test.txt has been saved.\n",
      "The file data\\processed\\validation.txt has been saved.\n"
     ]
    }
   ],
   "source": [
    "save_model_data(df=df, text=\"text\", label=\"label_text\", split=\"split\")"
   ]
  },
  {
   "cell_type": "code",
   "execution_count": null,
   "id": "846836f8",
   "metadata": {},
   "outputs": [],
   "source": []
  }
 ],
 "metadata": {
  "kernelspec": {
   "display_name": "Python 3 (ipykernel)",
   "language": "python",
   "name": "python3"
  },
  "language_info": {
   "codemirror_mode": {
    "name": "ipython",
    "version": 3
   },
   "file_extension": ".py",
   "mimetype": "text/x-python",
   "name": "python",
   "nbconvert_exporter": "python",
   "pygments_lexer": "ipython3",
   "version": "3.8.12"
  }
 },
 "nbformat": 4,
 "nbformat_minor": 5
}
