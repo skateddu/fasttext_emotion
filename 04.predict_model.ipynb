{
 "cells": [
  {
   "cell_type": "markdown",
   "id": "6de72132",
   "metadata": {},
   "source": [
    "**Install project requirements**"
   ]
  },
  {
   "cell_type": "code",
   "execution_count": 13,
   "id": "7daa0255",
   "metadata": {},
   "outputs": [],
   "source": [
    "# !pip install -r requirements.txt"
   ]
  },
  {
   "cell_type": "markdown",
   "id": "9a33ed8d",
   "metadata": {},
   "source": [
    "**Import libraries**"
   ]
  },
  {
   "cell_type": "code",
   "execution_count": 14,
   "id": "721f5d3f",
   "metadata": {},
   "outputs": [],
   "source": [
    "import fasttext as ft\n",
    "\n",
    "import os\n",
    "import re"
   ]
  },
  {
   "cell_type": "markdown",
   "id": "7fdb080b",
   "metadata": {},
   "source": [
    "**Define input model path**"
   ]
  },
  {
   "cell_type": "code",
   "execution_count": 15,
   "id": "942b0fdf",
   "metadata": {},
   "outputs": [],
   "source": [
    "input_path = os.path.join(\"models\")\n",
    "input_file = os.path.join(input_path, \"emotion_model.bin\")"
   ]
  },
  {
   "cell_type": "markdown",
   "id": "aa3e3dd4",
   "metadata": {},
   "source": [
    "**Define input data parameters**"
   ]
  },
  {
   "cell_type": "code",
   "execution_count": 16,
   "id": "ef54095c",
   "metadata": {},
   "outputs": [
    {
     "name": "stderr",
     "output_type": "stream",
     "text": [
      "Warning : `load_model` does not return WordVectorModel or SupervisedModel any more, but a `FastText` object which is very similar.\n"
     ]
    }
   ],
   "source": [
    "model = ft.load_model(path=input_file)"
   ]
  },
  {
   "cell_type": "markdown",
   "id": "3ef6f5e7",
   "metadata": {},
   "source": [
    "**Define custom function to make inference on text using fastText**"
   ]
  },
  {
   "cell_type": "code",
   "execution_count": 17,
   "id": "43eba072",
   "metadata": {},
   "outputs": [],
   "source": [
    "def fasttext_predict(text: str) -> dict:\n",
    "    \"\"\"\n",
    "    Predict text using fastText trained model.\n",
    "    \n",
    "    Parameters\n",
    "    ----------\n",
    "    text : str\n",
    "        text to classify\n",
    "        \n",
    "    Returns\n",
    "    -------\n",
    "    dict\n",
    "    \"\"\"\n",
    "    text = re.sub(pattern=r\"[^\\w+\\s+]\", repl=\"\", string=text.lower())\n",
    "    y_preds, y_pred_proba = model.predict(text=text, k=-1)\n",
    "    y_pred = list(map(lambda x: x.replace(\"__label__\", \"\"), y_preds))\n",
    "    return dict(zip(y_pred, y_pred_proba))"
   ]
  },
  {
   "cell_type": "markdown",
   "id": "2aadda05",
   "metadata": {},
   "source": [
    "**Call the custom function to predict on text**"
   ]
  },
  {
   "cell_type": "code",
   "execution_count": 18,
   "id": "78f944b9",
   "metadata": {
    "scrolled": true
   },
   "outputs": [
    {
     "data": {
      "text/plain": [
       "{'joy': 0.9477596879005432,\n",
       " 'anger': 0.03264296054840088,\n",
       " 'sadness': 0.01205646526068449,\n",
       " 'fear': 0.007473631761968136,\n",
       " 'love': 0.00011729969992302358,\n",
       " 'surprise': 1.0030998055299278e-05}"
      ]
     },
     "execution_count": 18,
     "metadata": {},
     "output_type": "execute_result"
    }
   ],
   "source": [
    "fasttext_predict(text=\"I love fastText\")"
   ]
  },
  {
   "cell_type": "code",
   "execution_count": null,
   "id": "691d90f0",
   "metadata": {},
   "outputs": [],
   "source": []
  }
 ],
 "metadata": {
  "kernelspec": {
   "display_name": "Python 3 (ipykernel)",
   "language": "python",
   "name": "python3"
  },
  "language_info": {
   "codemirror_mode": {
    "name": "ipython",
    "version": 3
   },
   "file_extension": ".py",
   "mimetype": "text/x-python",
   "name": "python",
   "nbconvert_exporter": "python",
   "pygments_lexer": "ipython3",
   "version": "3.9.4"
  }
 },
 "nbformat": 4,
 "nbformat_minor": 5
}
