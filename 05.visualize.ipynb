{
 "cells": [
  {
   "cell_type": "markdown",
   "id": "4ec622f8",
   "metadata": {},
   "source": [
    "**Visualize model predictions using [Gradio](https://github.com/gradio-app/gradio)**\n",
    "<img src=https://www.gradio.app/assets/img/logo.svg width=500>"
   ]
  },
  {
   "cell_type": "markdown",
   "id": "868ea532",
   "metadata": {},
   "source": [
    "**Documentation**  \n",
    "* https://www.gradio.app/docs/"
   ]
  },
  {
   "cell_type": "markdown",
   "id": "6de72132",
   "metadata": {},
   "source": [
    "**Install project requirements**"
   ]
  },
  {
   "cell_type": "code",
   "execution_count": 1,
   "id": "7daa0255",
   "metadata": {
    "scrolled": true
   },
   "outputs": [],
   "source": [
    "# !pip install -r requirements.txt --user"
   ]
  },
  {
   "cell_type": "markdown",
   "id": "9a33ed8d",
   "metadata": {},
   "source": [
    "**Import libraries**"
   ]
  },
  {
   "cell_type": "code",
   "execution_count": 2,
   "id": "721f5d3f",
   "metadata": {},
   "outputs": [],
   "source": [
    "import numpy as np\n",
    "import fasttext as ft\n",
    "from gradio import Interface\n",
    "from gradio.inputs import Textbox\n",
    "from gradio.outputs import Label\n",
    "\n",
    "import os\n",
    "import re"
   ]
  },
  {
   "cell_type": "markdown",
   "id": "7fdb080b",
   "metadata": {},
   "source": [
    "**Define input model path**"
   ]
  },
  {
   "cell_type": "code",
   "execution_count": 3,
   "id": "942b0fdf",
   "metadata": {},
   "outputs": [],
   "source": [
    "input_path = os.path.join(\"models\")\n",
    "input_file = os.path.join(input_path, \"emotion_model.bin\")"
   ]
  },
  {
   "cell_type": "markdown",
   "id": "aa3e3dd4",
   "metadata": {},
   "source": [
    "**Define input data parameters**"
   ]
  },
  {
   "cell_type": "code",
   "execution_count": 4,
   "id": "ef54095c",
   "metadata": {},
   "outputs": [
    {
     "name": "stderr",
     "output_type": "stream",
     "text": [
      "Warning : `load_model` does not return WordVectorModel or SupervisedModel any more, but a `FastText` object which is very similar.\n"
     ]
    }
   ],
   "source": [
    "model = ft.load_model(path=input_file)"
   ]
  },
  {
   "cell_type": "markdown",
   "id": "3ef6f5e7",
   "metadata": {},
   "source": [
    "**Define custom function to make inference on text using fastText**"
   ]
  },
  {
   "cell_type": "code",
   "execution_count": 5,
   "id": "43eba072",
   "metadata": {},
   "outputs": [],
   "source": [
    "def fasttext_predict(text: str) -> dict:\n",
    "    \"\"\"\n",
    "    Predict text using fastText trained model.\n",
    "    \n",
    "    Parameters\n",
    "    ----------\n",
    "    text : str\n",
    "        text to classify\n",
    "        \n",
    "    Returns\n",
    "    -------\n",
    "    dict\n",
    "    \"\"\"\n",
    "    text = re.sub(pattern=r\"[^\\w+\\s+]\", repl=\"\", string=text.lower())\n",
    "    y_preds, y_pred_probas = model.predict(text=text, k=-1)\n",
    "    y_pred = list(map(lambda x: x.replace(\"__label__\", \"\"), y_preds))\n",
    "    y_pred_proba = np.round(y_pred_probas, 2).astype(str)\n",
    "    return dict(zip(y_pred, y_pred_proba))"
   ]
  },
  {
   "cell_type": "markdown",
   "id": "922b2802",
   "metadata": {},
   "source": [
    "**Define gradio interface**"
   ]
  },
  {
   "cell_type": "code",
   "execution_count": 6,
   "id": "691d90f0",
   "metadata": {
    "scrolled": false
   },
   "outputs": [
    {
     "name": "stdout",
     "output_type": "stream",
     "text": [
      "Running on local URL:  http://127.0.0.1:7860/\n",
      "Running on public URL: https://57419.gradio.app\n",
      "\n",
      "This share link expires in 72 hours. For free permanent hosting, check out Spaces (https://huggingface.co/spaces)\n"
     ]
    },
    {
     "data": {
      "text/html": [
       "\n",
       "        <iframe\n",
       "            width=\"900\"\n",
       "            height=\"500\"\n",
       "            src=\"https://57419.gradio.app\"\n",
       "            frameborder=\"0\"\n",
       "            allowfullscreen\n",
       "            \n",
       "        ></iframe>\n",
       "        "
      ],
      "text/plain": [
       "<IPython.lib.display.IFrame at 0x1d7e6464850>"
      ]
     },
     "metadata": {},
     "output_type": "display_data"
    }
   ],
   "source": [
    "text_input = Textbox(lines=5, label=\"INPUT TEXT\")\n",
    "label_output = Label(label=\"MODEL OUTPUT\")\n",
    "title = \"fastText Emotion Classifier\"\n",
    "description = \"\"\"Text emotion detection using custom model trained using fastText.\"\"\"\n",
    "\n",
    "interface = Interface(\n",
    "    fn=fasttext_predict, \n",
    "    inputs=text_input, \n",
    "    outputs=label_output,\n",
    "    title=title,\n",
    "    description=description\n",
    ").launch(share=True)"
   ]
  },
  {
   "cell_type": "code",
   "execution_count": null,
   "id": "eeb7104d",
   "metadata": {},
   "outputs": [],
   "source": []
  }
 ],
 "metadata": {
  "kernelspec": {
   "display_name": "Python 3 (ipykernel)",
   "language": "python",
   "name": "python3"
  },
  "language_info": {
   "codemirror_mode": {
    "name": "ipython",
    "version": 3
   },
   "file_extension": ".py",
   "mimetype": "text/x-python",
   "name": "python",
   "nbconvert_exporter": "python",
   "pygments_lexer": "ipython3",
   "version": "3.9.4"
  }
 },
 "nbformat": 4,
 "nbformat_minor": 5
}
