{
 "cells": [
  {
   "cell_type": "markdown",
   "id": "f83fb553",
   "metadata": {},
   "source": [
    "**Download dataset using [Huggingface Datasets](https://github.com/huggingface/datasets)**  \n",
    "<img src=https://raw.githubusercontent.com/huggingface/datasets/master/docs/source/imgs/datasets_logo_name.jpg width=500>"
   ]
  },
  {
   "cell_type": "markdown",
   "id": "bec6458a",
   "metadata": {},
   "source": [
    "**Documentation:**  \n",
    "* loading datasets: https://huggingface.co/docs/datasets/loading_datasets.html"
   ]
  },
  {
   "cell_type": "markdown",
   "id": "75d59e1b",
   "metadata": {},
   "source": [
    "**Install project requirements**"
   ]
  },
  {
   "cell_type": "code",
   "execution_count": 1,
   "id": "17949dce",
   "metadata": {
    "scrolled": false
   },
   "outputs": [],
   "source": [
    "# !pip install -r requirements.txt"
   ]
  },
  {
   "cell_type": "markdown",
   "id": "638e73d9",
   "metadata": {},
   "source": [
    "**Import libraries**"
   ]
  },
  {
   "cell_type": "code",
   "execution_count": 2,
   "id": "6954256e",
   "metadata": {},
   "outputs": [],
   "source": [
    "import pandas as pd\n",
    "from datasets import list_datasets\n",
    "from datasets import load_dataset\n",
    "\n",
    "import os"
   ]
  },
  {
   "cell_type": "markdown",
   "id": "b92857da",
   "metadata": {},
   "source": [
    "**Get the list of available emotion classification datasets**"
   ]
  },
  {
   "cell_type": "code",
   "execution_count": 3,
   "id": "6d266ae3",
   "metadata": {},
   "outputs": [
    {
     "data": {
      "text/plain": [
       "['emotion',\n",
       " 'go_emotions',\n",
       " 'Mansooreh/sharif-emotional-speech-dataset',\n",
       " 'Pyjay/emotion_nl',\n",
       " 'SetFit/go_emotions',\n",
       " 'SetFit/emotion',\n",
       " 'jakeazcona/short-text-labeled-emotion-classification',\n",
       " 'jakeazcona/short-text-multi-labeled-emotion-classification',\n",
       " 'mrm8488/goemotions',\n",
       " 'pariajm/sharif_emotional_speech_dataset']"
      ]
     },
     "execution_count": 3,
     "metadata": {},
     "output_type": "execute_result"
    }
   ],
   "source": [
    "datasets_list = list_datasets()\n",
    "emotion_datasets = list(filter(lambda x: \"emotion\" in x, datasets_list))\n",
    "emotion_datasets"
   ]
  },
  {
   "cell_type": "markdown",
   "id": "4d266b89",
   "metadata": {},
   "source": [
    "**Download the `SetFit/emotion` dataset**"
   ]
  },
  {
   "cell_type": "code",
   "execution_count": 4,
   "id": "fd9d2dee",
   "metadata": {
    "scrolled": true
   },
   "outputs": [
    {
     "name": "stderr",
     "output_type": "stream",
     "text": [
      "Using custom data configuration SetFit--emotion-aa9fc3cfdd638933\n",
      "Reusing dataset json (C:\\Users\\caded\\.cache\\huggingface\\datasets\\json\\SetFit--emotion-aa9fc3cfdd638933\\0.0.0\\ac0ca5f5289a6cf108e706efcf040422dbbfa8e658dee6a819f20d76bb84d26b)\n"
     ]
    },
    {
     "data": {
      "application/vnd.jupyter.widget-view+json": {
       "model_id": "e1e52686b8944958a9a99ba701351057",
       "version_major": 2,
       "version_minor": 0
      },
      "text/plain": [
       "  0%|          | 0/3 [00:00<?, ?it/s]"
      ]
     },
     "metadata": {},
     "output_type": "display_data"
    },
    {
     "data": {
      "text/plain": [
       "DatasetDict({\n",
       "    train: Dataset({\n",
       "        features: ['text', 'label', 'label_text'],\n",
       "        num_rows: 16000\n",
       "    })\n",
       "    test: Dataset({\n",
       "        features: ['text', 'label', 'label_text'],\n",
       "        num_rows: 2000\n",
       "    })\n",
       "    validation: Dataset({\n",
       "        features: ['text', 'label', 'label_text'],\n",
       "        num_rows: 2000\n",
       "    })\n",
       "})"
      ]
     },
     "execution_count": 4,
     "metadata": {},
     "output_type": "execute_result"
    }
   ],
   "source": [
    "dataset = load_dataset(path=\"SetFit/emotion\")\n",
    "dataset"
   ]
  },
  {
   "cell_type": "markdown",
   "id": "179b00ea",
   "metadata": {},
   "source": [
    "**Define custom function to donwload the complete dataset from Huggingface Datasets in a Pandas DataFrame format**"
   ]
  },
  {
   "cell_type": "code",
   "execution_count": 5,
   "id": "41abd2fa",
   "metadata": {},
   "outputs": [],
   "source": [
    "def download_dataset(path: str) -> pd.DataFrame:\n",
    "    \"\"\"\n",
    "    Download complete dataset from huggingface datasets in pandas format.\n",
    "    \n",
    "    Parameters\n",
    "    ----------\n",
    "    path : str\n",
    "        dataset path\n",
    "    \n",
    "    Returns\n",
    "    -------\n",
    "    pd.DataFrame\n",
    "    \"\"\"\n",
    "    dfs = []\n",
    "    datasets = load_dataset(path=path)\n",
    "    for split, dataset in datasets.items():\n",
    "        df = dataset.to_pandas() \\\n",
    "                    .assign(**{\"split\": split})\n",
    "        dfs.append(df)\n",
    "    return pd.concat(objs=dfs).reset_index(drop=True)"
   ]
  },
  {
   "cell_type": "markdown",
   "id": "c48505c8",
   "metadata": {},
   "source": [
    "**Call the custom function to get the dataset**"
   ]
  },
  {
   "cell_type": "code",
   "execution_count": 6,
   "id": "a11a99c0",
   "metadata": {},
   "outputs": [
    {
     "name": "stderr",
     "output_type": "stream",
     "text": [
      "Using custom data configuration SetFit--emotion-aa9fc3cfdd638933\n",
      "Reusing dataset json (C:\\Users\\caded\\.cache\\huggingface\\datasets\\json\\SetFit--emotion-aa9fc3cfdd638933\\0.0.0\\ac0ca5f5289a6cf108e706efcf040422dbbfa8e658dee6a819f20d76bb84d26b)\n"
     ]
    },
    {
     "data": {
      "application/vnd.jupyter.widget-view+json": {
       "model_id": "689e671a99094a169820c9a9380ccd64",
       "version_major": 2,
       "version_minor": 0
      },
      "text/plain": [
       "  0%|          | 0/3 [00:00<?, ?it/s]"
      ]
     },
     "metadata": {},
     "output_type": "display_data"
    },
    {
     "data": {
      "text/html": [
       "<div>\n",
       "<style scoped>\n",
       "    .dataframe tbody tr th:only-of-type {\n",
       "        vertical-align: middle;\n",
       "    }\n",
       "\n",
       "    .dataframe tbody tr th {\n",
       "        vertical-align: top;\n",
       "    }\n",
       "\n",
       "    .dataframe thead th {\n",
       "        text-align: right;\n",
       "    }\n",
       "</style>\n",
       "<table border=\"1\" class=\"dataframe\">\n",
       "  <thead>\n",
       "    <tr style=\"text-align: right;\">\n",
       "      <th></th>\n",
       "      <th>text</th>\n",
       "      <th>label</th>\n",
       "      <th>label_text</th>\n",
       "      <th>split</th>\n",
       "    </tr>\n",
       "  </thead>\n",
       "  <tbody>\n",
       "    <tr>\n",
       "      <th>0</th>\n",
       "      <td>i didnt feel humiliated</td>\n",
       "      <td>0</td>\n",
       "      <td>sadness</td>\n",
       "      <td>train</td>\n",
       "    </tr>\n",
       "    <tr>\n",
       "      <th>1</th>\n",
       "      <td>i can go from feeling so hopeless to so damned...</td>\n",
       "      <td>0</td>\n",
       "      <td>sadness</td>\n",
       "      <td>train</td>\n",
       "    </tr>\n",
       "    <tr>\n",
       "      <th>2</th>\n",
       "      <td>im grabbing a minute to post i feel greedy wrong</td>\n",
       "      <td>3</td>\n",
       "      <td>anger</td>\n",
       "      <td>train</td>\n",
       "    </tr>\n",
       "    <tr>\n",
       "      <th>3</th>\n",
       "      <td>i am ever feeling nostalgic about the fireplac...</td>\n",
       "      <td>2</td>\n",
       "      <td>love</td>\n",
       "      <td>train</td>\n",
       "    </tr>\n",
       "    <tr>\n",
       "      <th>4</th>\n",
       "      <td>i am feeling grouchy</td>\n",
       "      <td>3</td>\n",
       "      <td>anger</td>\n",
       "      <td>train</td>\n",
       "    </tr>\n",
       "    <tr>\n",
       "      <th>...</th>\n",
       "      <td>...</td>\n",
       "      <td>...</td>\n",
       "      <td>...</td>\n",
       "      <td>...</td>\n",
       "    </tr>\n",
       "    <tr>\n",
       "      <th>19995</th>\n",
       "      <td>im having ssa examination tomorrow in the morn...</td>\n",
       "      <td>0</td>\n",
       "      <td>sadness</td>\n",
       "      <td>validation</td>\n",
       "    </tr>\n",
       "    <tr>\n",
       "      <th>19996</th>\n",
       "      <td>i constantly worry about their fight against n...</td>\n",
       "      <td>1</td>\n",
       "      <td>joy</td>\n",
       "      <td>validation</td>\n",
       "    </tr>\n",
       "    <tr>\n",
       "      <th>19997</th>\n",
       "      <td>i feel its important to share this info for th...</td>\n",
       "      <td>1</td>\n",
       "      <td>joy</td>\n",
       "      <td>validation</td>\n",
       "    </tr>\n",
       "    <tr>\n",
       "      <th>19998</th>\n",
       "      <td>i truly feel that if you are passionate enough...</td>\n",
       "      <td>1</td>\n",
       "      <td>joy</td>\n",
       "      <td>validation</td>\n",
       "    </tr>\n",
       "    <tr>\n",
       "      <th>19999</th>\n",
       "      <td>i feel like i just wanna buy any cute make up ...</td>\n",
       "      <td>1</td>\n",
       "      <td>joy</td>\n",
       "      <td>validation</td>\n",
       "    </tr>\n",
       "  </tbody>\n",
       "</table>\n",
       "<p>20000 rows × 4 columns</p>\n",
       "</div>"
      ],
      "text/plain": [
       "                                                    text  label label_text  \\\n",
       "0                                i didnt feel humiliated      0    sadness   \n",
       "1      i can go from feeling so hopeless to so damned...      0    sadness   \n",
       "2       im grabbing a minute to post i feel greedy wrong      3      anger   \n",
       "3      i am ever feeling nostalgic about the fireplac...      2       love   \n",
       "4                                   i am feeling grouchy      3      anger   \n",
       "...                                                  ...    ...        ...   \n",
       "19995  im having ssa examination tomorrow in the morn...      0    sadness   \n",
       "19996  i constantly worry about their fight against n...      1        joy   \n",
       "19997  i feel its important to share this info for th...      1        joy   \n",
       "19998  i truly feel that if you are passionate enough...      1        joy   \n",
       "19999  i feel like i just wanna buy any cute make up ...      1        joy   \n",
       "\n",
       "            split  \n",
       "0           train  \n",
       "1           train  \n",
       "2           train  \n",
       "3           train  \n",
       "4           train  \n",
       "...           ...  \n",
       "19995  validation  \n",
       "19996  validation  \n",
       "19997  validation  \n",
       "19998  validation  \n",
       "19999  validation  \n",
       "\n",
       "[20000 rows x 4 columns]"
      ]
     },
     "execution_count": 6,
     "metadata": {},
     "output_type": "execute_result"
    }
   ],
   "source": [
    "df = download_dataset(path=\"SetFit/emotion\")\n",
    "df"
   ]
  },
  {
   "cell_type": "markdown",
   "id": "2e91ab0b",
   "metadata": {},
   "source": [
    "**Save DataFrame to ouput path in json format**"
   ]
  },
  {
   "cell_type": "code",
   "execution_count": 7,
   "id": "739f8dd0",
   "metadata": {},
   "outputs": [],
   "source": [
    "output_path = os.path.join(\"data\", \"raw\")\n",
    "os.makedirs(name=output_path, exist_ok=True)\n",
    "output_file = os.path.join(output_path, \"SetFit_emotion.json\")\n",
    "df.to_json(path_or_buf=output_file, orient=\"records\", lines=True)"
   ]
  },
  {
   "cell_type": "code",
   "execution_count": null,
   "id": "c8d6b92d",
   "metadata": {},
   "outputs": [],
   "source": []
  }
 ],
 "metadata": {
  "kernelspec": {
   "display_name": "Python 3 (ipykernel)",
   "language": "python",
   "name": "python3"
  },
  "language_info": {
   "codemirror_mode": {
    "name": "ipython",
    "version": 3
   },
   "file_extension": ".py",
   "mimetype": "text/x-python",
   "name": "python",
   "nbconvert_exporter": "python",
   "pygments_lexer": "ipython3",
   "version": "3.8.12"
  }
 },
 "nbformat": 4,
 "nbformat_minor": 5
}
