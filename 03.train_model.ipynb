{
 "cells": [
  {
   "cell_type": "markdown",
   "id": "491df07a",
   "metadata": {},
   "source": [
    "**Train [FastText](https://github.com/facebookresearch/fastText) classification model**  \n",
    "<img src=https://fasttext.cc/img/fasttext-logo-color-web.png width=500>"
   ]
  },
  {
   "cell_type": "markdown",
   "id": "fbdf5974",
   "metadata": {},
   "source": [
    "**Documentation**  \n",
    "* our first classifier: https://fasttext.cc/docs/en/supervised-tutorial.html#our-first-classifier\n",
    "* autotune: https://fasttext.cc/docs/en/autotune.html"
   ]
  },
  {
   "cell_type": "markdown",
   "id": "6de72132",
   "metadata": {},
   "source": [
    "**Install project requirements**"
   ]
  },
  {
   "cell_type": "code",
   "execution_count": 1,
   "id": "7daa0255",
   "metadata": {},
   "outputs": [],
   "source": [
    "# !pip install -r requirements.txt"
   ]
  },
  {
   "cell_type": "markdown",
   "id": "9a33ed8d",
   "metadata": {},
   "source": [
    "**Import libraries**"
   ]
  },
  {
   "cell_type": "code",
   "execution_count": 2,
   "id": "721f5d3f",
   "metadata": {},
   "outputs": [],
   "source": [
    "import pandas as pd\n",
    "import fasttext as ft\n",
    "\n",
    "import os"
   ]
  },
  {
   "cell_type": "markdown",
   "id": "aa3e3dd4",
   "metadata": {},
   "source": [
    "**Define input data parameters**"
   ]
  },
  {
   "cell_type": "code",
   "execution_count": 3,
   "id": "a6360c11",
   "metadata": {},
   "outputs": [],
   "source": [
    "input_path = os.path.join(\"data\", \"processed\")\n",
    "\n",
    "train_data = os.path.join(input_path, \"train.txt\")\n",
    "validation_data = os.path.join(input_path, \"validation.txt\")\n",
    "test_data = os.path.join(input_path, \"test.txt\")"
   ]
  },
  {
   "cell_type": "markdown",
   "id": "bf0d9656",
   "metadata": {},
   "source": [
    "**Define model parameters**  \n",
    "* `autotune`: if True, performs automatic hyperparameters tuning using validation data\n",
    "* `quantize`: if True, quantize the model reducing the size of the model and it's memory footprint"
   ]
  },
  {
   "cell_type": "code",
   "execution_count": 4,
   "id": "e62b74b8",
   "metadata": {},
   "outputs": [],
   "source": [
    "auto_tune = True\n",
    "quantize = False"
   ]
  },
  {
   "cell_type": "markdown",
   "id": "c6237935",
   "metadata": {},
   "source": [
    "**Train fastText supervised model**  \n",
    "`train_supervised` parameters:\n",
    "*    **input**: training file path (required)\n",
    "*    **lr**: learning rate [0.1]\n",
    "*    **dim**: size of word vectors [100]\n",
    "*    **ws**: size of the context window [5]\n",
    "*    **epoch**: number of epochs [5]\n",
    "*    **minCount**: minimal number of word occurences [1]\n",
    "*    **minCountLabel**: minimal number of label occurences [1]\n",
    "*    **minn**: min length of char ngram [0]\n",
    "*    **maxn**: max length of char ngram [0]\n",
    "*    **neg**: number of negatives sampled [5]\n",
    "*    **wordNgrams**: max length of word ngram [1]\n",
    "*    **loss**: loss function {ns, hs, softmax, ova} [softmax]\n",
    "*    **bucket**: number of buckets [2000000]\n",
    "*    **thread**: number of threads [number of cpus]\n",
    "*    **lrUpdateRate**: change the rate of updates for the learning rate [100]\n",
    "*    **t**: sampling threshold [0.0001]\n",
    "*    **label**: label prefix ['__label__']\n",
    "*    **verbose**: verbose [2]\n",
    "*    **pretrainedVectors**: pretrained word vectors (.vec file) for supervised learning []"
   ]
  },
  {
   "cell_type": "code",
   "execution_count": 5,
   "id": "d4b9ed08",
   "metadata": {},
   "outputs": [],
   "source": [
    "if auto_tune:\n",
    "    model = ft.train_supervised(input=train_data, autotuneValidationFile=validation_data)\n",
    "else:\n",
    "    model = ft.train_supervised(input=train_data)"
   ]
  },
  {
   "cell_type": "markdown",
   "id": "7af6a64a",
   "metadata": {},
   "source": [
    "**Get best model parameters**  \n",
    "`train_supervised`, `train_unsupervised` and `load_model` functions return an instance of `_FastText class`, that we generaly name `model` object.\n",
    "\n",
    "This object exposes those training arguments as properties : `lr`, `dim`, `ws`, `epoch`, `minCount`, `minCountLabel`, `minn`, `maxn`, `neg`, `wordNgrams`, `loss`, `bucket`, `thread`, `lrUpdateRate`, `t`, `label`, `verbose`, `pretrainedVectors`. So `model.wordNgrams` will give you the max length of word ngram used for training this model.\n",
    "\n",
    "In addition, the object exposes several functions:  \n",
    "*    **get_dimension**: Get the dimension (size) of a lookup vector (hidden layer). This is equivalent to `dim` property.\n",
    "*    **get_input_vector**: Given an index, get the corresponding vector of the Input Matrix.\n",
    "*    **get_input_matrix**: Get a copy of the full input matrix of a Model.\n",
    "*    **get_labels**: Get the entire list of labels of the dictionary. This is equivalent to `labels` property.\n",
    "*    **get_line**: Split a line of text into words and labels.\n",
    "*    **get_output_matrix**: Get a copy of the full output matrix of a Model.\n",
    "*    **get_sentence_vector**: Given a string, get a single vector represenation. This function assumes to be given a single line of text. We split words on whitespace (space, newline, tab, vertical tab) and the control characters carriage return, formfeed and the null character.\n",
    "*    **get_subword_id**: Given a subword, return the index (within input matrix) it hashes to.\n",
    "*    **get_subwords**: Given a word, get the subwords and their indicies.\n",
    "*    **get_word_id**: Given a word, get the word id within the dictionary.\n",
    "*    **get_word_vector**: Get the vector representation of word.\n",
    "*    **get_words**: Get the entire list of words of the dictionary. This is equivalent to `words` property.\n",
    "*    **is_quantized**: whether the model has been quantized\n",
    "*    **predict**: Given a string, get a list of labels and a list of corresponding probabilities.\n",
    "*    **quantize**: Quantize the model reducing the size of the model and it's memory footprint.\n",
    "*    **save_model**: Save the model to the given path\n",
    "*    **test**: Evaluate supervised model using file given by path\n",
    "*    **test_label**: Return the precision and recall score for each label. "
   ]
  },
  {
   "cell_type": "code",
   "execution_count": 6,
   "id": "3ddd60f3",
   "metadata": {},
   "outputs": [
    {
     "data": {
      "text/plain": [
       "{'bucket': 0,\n",
       " 'dim': 991,\n",
       " 'epoch': 4,\n",
       " 'f': <fasttext_pybind.fasttext at 0x1d8f3a7f270>,\n",
       " 'is_quantized': <bound method _FastText.is_quantized of <fasttext.FastText._FastText object at 0x000001D8F3A75490>>,\n",
       " 'label': '__label__',\n",
       " 'labels': ['__label__joy',\n",
       "  '__label__sadness',\n",
       "  '__label__anger',\n",
       "  '__label__fear',\n",
       "  '__label__love',\n",
       "  '__label__surprise'],\n",
       " 'loss': <loss_name.softmax: 3>,\n",
       " 'lr': 0.47095012446288465,\n",
       " 'lrUpdateRate': 100,\n",
       " 'maxn': 0,\n",
       " 'minCount': 1,\n",
       " 'minCountLabel': 0,\n",
       " 'minn': 0,\n",
       " 'neg': 5,\n",
       " 'predict': <bound method _FastText.predict of <fasttext.FastText._FastText object at 0x000001D8F3A75490>>,\n",
       " 'pretrainedVectors': '',\n",
       " 'quantize': <bound method _FastText.quantize of <fasttext.FastText._FastText object at 0x000001D8F3A75490>>,\n",
       " 'save_model': <bound method _FastText.save_model of <fasttext.FastText._FastText object at 0x000001D8F3A75490>>,\n",
       " 'set_args': <bound method _FastText.set_args of <fasttext.FastText._FastText object at 0x000001D8F3A75490>>,\n",
       " 'set_matrices': <bound method _FastText.set_matrices of <fasttext.FastText._FastText object at 0x000001D8F3A75490>>,\n",
       " 't': 0.0001,\n",
       " 'test': <bound method _FastText.test of <fasttext.FastText._FastText object at 0x000001D8F3A75490>>,\n",
       " 'test_label': <bound method _FastText.test_label of <fasttext.FastText._FastText object at 0x000001D8F3A75490>>,\n",
       " 'thread': 15,\n",
       " 'verbose': 2,\n",
       " 'wordNgrams': 1,\n",
       " 'ws': 5}"
      ]
     },
     "execution_count": 6,
     "metadata": {},
     "output_type": "execute_result"
    }
   ],
   "source": [
    "model_params = {}\n",
    "for attribute in dir(model):\n",
    "    if not attribute.startswith(\"_\") and \"get_\" not in attribute and attribute!=\"words\":\n",
    "        model_params[attribute] = getattr(model, attribute)\n",
    "model_params"
   ]
  },
  {
   "cell_type": "markdown",
   "id": "e25d92b3",
   "metadata": {},
   "source": [
    "**Quantize model (optional)**"
   ]
  },
  {
   "cell_type": "code",
   "execution_count": 7,
   "id": "3ca7cc97",
   "metadata": {},
   "outputs": [],
   "source": [
    "if quantize:\n",
    "    model = model.quantize()"
   ]
  },
  {
   "cell_type": "markdown",
   "id": "dd97f10e",
   "metadata": {},
   "source": [
    "**Evaluate model performance on test data**"
   ]
  },
  {
   "cell_type": "code",
   "execution_count": 8,
   "id": "1b9c55a4",
   "metadata": {},
   "outputs": [
    {
     "data": {
      "text/plain": [
       "(2000, 0.8865, 0.8865)"
      ]
     },
     "execution_count": 8,
     "metadata": {},
     "output_type": "execute_result"
    }
   ],
   "source": [
    "model.test(path=test_data)"
   ]
  },
  {
   "cell_type": "markdown",
   "id": "136b20d5",
   "metadata": {},
   "source": [
    "**Serialize trained model**"
   ]
  },
  {
   "cell_type": "code",
   "execution_count": 9,
   "id": "260d884c",
   "metadata": {},
   "outputs": [],
   "source": [
    "output_model = os.path.join(\"models\", \"emotion_model.bin\")\n",
    "model.save_model(path=output_model)"
   ]
  },
  {
   "cell_type": "code",
   "execution_count": null,
   "id": "ef54095c",
   "metadata": {},
   "outputs": [],
   "source": []
  }
 ],
 "metadata": {
  "kernelspec": {
   "display_name": "Python 3 (ipykernel)",
   "language": "python",
   "name": "python3"
  },
  "language_info": {
   "codemirror_mode": {
    "name": "ipython",
    "version": 3
   },
   "file_extension": ".py",
   "mimetype": "text/x-python",
   "name": "python",
   "nbconvert_exporter": "python",
   "pygments_lexer": "ipython3",
   "version": "3.8.12"
  }
 },
 "nbformat": 4,
 "nbformat_minor": 5
}
